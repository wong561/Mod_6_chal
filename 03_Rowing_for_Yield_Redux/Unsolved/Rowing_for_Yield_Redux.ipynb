{
 "cells": [
  {
   "cell_type": "markdown",
   "metadata": {},
   "source": [
    "# Rowing for Yield Redux\n",
    "\n",
    "In this activity, you'll revisit the government yields scenario from the “Rowing for Yield” activity, but this time, you’ll focus on data for US yields.\n",
    "\n",
    "Instructions:\n",
    "\n",
    "1. Import the Pandas and `pathlib` libraries.\n",
    "\n",
    "2. Use `Path` with the `read_csv` function to read the CSV file into the DataFrame. Review the first 10 rows of the DataFrame to confirm the import.\n",
    "\n",
    "3. Use the `iloc` function to select the first 10 rows of data and the third column.\n",
    "\n",
    "4. Use the `loc` function to select all the rows for the USA yields column. Review the first five rows to confirm the new DataFrame.\n",
    "\n",
    "5. Plot the distribution of the USA yields column in a histogram."
   ]
  },
  {
   "cell_type": "markdown",
   "metadata": {},
   "source": [
    "## Step 1: Import the Pandas and `pathlib` libraries."
   ]
  },
  {
   "cell_type": "code",
   "execution_count": 1,
   "metadata": {},
   "outputs": [],
   "source": [
    "# Import the Pandas library\n",
    "# YOUR CODE HERE\n",
    "\n",
    "\n",
    "# Import the Path module from the pathlib library\n",
    "# YOUR CODE HERE\n"
   ]
  },
  {
   "cell_type": "markdown",
   "metadata": {},
   "source": [
    "## Step 2: Use `Path` with the `read_csv` function to read the CSV file into the DataFrame. Review the first 10 rows of the DataFrame to confirm the import."
   ]
  },
  {
   "cell_type": "code",
   "execution_count": 2,
   "metadata": {},
   "outputs": [
    {
     "data": {
      "text/html": [
       "<div>\n",
       "<style scoped>\n",
       "    .dataframe tbody tr th:only-of-type {\n",
       "        vertical-align: middle;\n",
       "    }\n",
       "\n",
       "    .dataframe tbody tr th {\n",
       "        vertical-align: top;\n",
       "    }\n",
       "\n",
       "    .dataframe thead th {\n",
       "        text-align: right;\n",
       "    }\n",
       "</style>\n",
       "<table border=\"1\" class=\"dataframe\">\n",
       "  <thead>\n",
       "    <tr style=\"text-align: right;\">\n",
       "      <th></th>\n",
       "      <th>Mexico</th>\n",
       "      <th>Brazil</th>\n",
       "      <th>South Africa</th>\n",
       "      <th>United Kingdom</th>\n",
       "      <th>USA</th>\n",
       "      <th>Spain</th>\n",
       "    </tr>\n",
       "    <tr>\n",
       "      <th>Date</th>\n",
       "      <th></th>\n",
       "      <th></th>\n",
       "      <th></th>\n",
       "      <th></th>\n",
       "      <th></th>\n",
       "      <th></th>\n",
       "    </tr>\n",
       "  </thead>\n",
       "  <tbody>\n",
       "    <tr>\n",
       "      <th>2000-01-01</th>\n",
       "      <td>16.19</td>\n",
       "      <td>19.32</td>\n",
       "      <td>10.16</td>\n",
       "      <td>5.8227</td>\n",
       "      <td>5.33</td>\n",
       "      <td>3.80</td>\n",
       "    </tr>\n",
       "    <tr>\n",
       "      <th>2000-02-01</th>\n",
       "      <td>15.81</td>\n",
       "      <td>20.00</td>\n",
       "      <td>9.78</td>\n",
       "      <td>5.6347</td>\n",
       "      <td>5.56</td>\n",
       "      <td>3.97</td>\n",
       "    </tr>\n",
       "    <tr>\n",
       "      <th>2000-03-01</th>\n",
       "      <td>13.66</td>\n",
       "      <td>18.21</td>\n",
       "      <td>9.85</td>\n",
       "      <td>5.3707</td>\n",
       "      <td>5.72</td>\n",
       "      <td>4.10</td>\n",
       "    </tr>\n",
       "    <tr>\n",
       "      <th>2000-04-01</th>\n",
       "      <td>12.93</td>\n",
       "      <td>20.13</td>\n",
       "      <td>9.88</td>\n",
       "      <td>5.3213</td>\n",
       "      <td>5.66</td>\n",
       "      <td>4.22</td>\n",
       "    </tr>\n",
       "    <tr>\n",
       "      <th>2000-05-01</th>\n",
       "      <td>14.18</td>\n",
       "      <td>20.29</td>\n",
       "      <td>10.22</td>\n",
       "      <td>5.4033</td>\n",
       "      <td>5.92</td>\n",
       "      <td>4.68</td>\n",
       "    </tr>\n",
       "    <tr>\n",
       "      <th>2000-06-01</th>\n",
       "      <td>50.00</td>\n",
       "      <td>50.00</td>\n",
       "      <td>50.00</td>\n",
       "      <td>5.2097</td>\n",
       "      <td>5.74</td>\n",
       "      <td>4.82</td>\n",
       "    </tr>\n",
       "    <tr>\n",
       "      <th>2000-07-01</th>\n",
       "      <td>13.73</td>\n",
       "      <td>17.80</td>\n",
       "      <td>10.23</td>\n",
       "      <td>5.2388</td>\n",
       "      <td>5.93</td>\n",
       "      <td>4.96</td>\n",
       "    </tr>\n",
       "    <tr>\n",
       "      <th>2000-08-01</th>\n",
       "      <td>15.23</td>\n",
       "      <td>17.25</td>\n",
       "      <td>10.15</td>\n",
       "      <td>5.3312</td>\n",
       "      <td>6.11</td>\n",
       "      <td>5.06</td>\n",
       "    </tr>\n",
       "    <tr>\n",
       "      <th>2000-09-01</th>\n",
       "      <td>15.06</td>\n",
       "      <td>17.22</td>\n",
       "      <td>10.16</td>\n",
       "      <td>5.3873</td>\n",
       "      <td>5.99</td>\n",
       "      <td>5.05</td>\n",
       "    </tr>\n",
       "    <tr>\n",
       "      <th>2000-10-01</th>\n",
       "      <td>15.88</td>\n",
       "      <td>17.64</td>\n",
       "      <td>10.19</td>\n",
       "      <td>5.2179</td>\n",
       "      <td>6.10</td>\n",
       "      <td>5.05</td>\n",
       "    </tr>\n",
       "  </tbody>\n",
       "</table>\n",
       "</div>"
      ],
      "text/plain": [
       "            Mexico  Brazil  South Africa  United Kingdom   USA  Spain\n",
       "Date                                                                 \n",
       "2000-01-01   16.19   19.32         10.16          5.8227  5.33   3.80\n",
       "2000-02-01   15.81   20.00          9.78          5.6347  5.56   3.97\n",
       "2000-03-01   13.66   18.21          9.85          5.3707  5.72   4.10\n",
       "2000-04-01   12.93   20.13          9.88          5.3213  5.66   4.22\n",
       "2000-05-01   14.18   20.29         10.22          5.4033  5.92   4.68\n",
       "2000-06-01   50.00   50.00         50.00          5.2097  5.74   4.82\n",
       "2000-07-01   13.73   17.80         10.23          5.2388  5.93   4.96\n",
       "2000-08-01   15.23   17.25         10.15          5.3312  6.11   5.06\n",
       "2000-09-01   15.06   17.22         10.16          5.3873  5.99   5.05\n",
       "2000-10-01   15.88   17.64         10.19          5.2179  6.10   5.05"
      ]
     },
     "execution_count": 2,
     "metadata": {},
     "output_type": "execute_result"
    }
   ],
   "source": [
    "# Read in the CSV file called \"country_bond_rates.csv\" using the Path module. \n",
    "# The CSV file is located in the Resources folder.\n",
    "# Set the index to the column \"Date\"\n",
    "# Set the parse_dates and infer_datetime_format parameters\n",
    "bond_rates_df = # YOUR CODE HERE\n",
    "\n",
    "\n",
    "# Review the first 10 rows of the DataFrame\n",
    "# YOUR CODE HERE\n"
   ]
  },
  {
   "cell_type": "markdown",
   "metadata": {},
   "source": [
    "## Step 3: Use the `iloc` function to select the first 10 rows of data and the third column."
   ]
  },
  {
   "cell_type": "code",
   "execution_count": 3,
   "metadata": {},
   "outputs": [
    {
     "data": {
      "text/plain": [
       "Date\n",
       "2000-01-01    10.16\n",
       "2000-02-01     9.78\n",
       "2000-03-01     9.85\n",
       "2000-04-01     9.88\n",
       "2000-05-01    10.22\n",
       "2000-06-01    50.00\n",
       "2000-07-01    10.23\n",
       "2000-08-01    10.15\n",
       "2000-09-01    10.16\n",
       "2000-10-01    10.19\n",
       "Name: South Africa, dtype: float64"
      ]
     },
     "execution_count": 3,
     "metadata": {},
     "output_type": "execute_result"
    }
   ],
   "source": [
    "# Using the iloc function, select the first 10 rows and the third column from the DataFrame\n",
    "# YOUR CODE HERE\n"
   ]
  },
  {
   "cell_type": "markdown",
   "metadata": {},
   "source": [
    "## Step 4: Use the `loc` function to select all the rows for the USA yields column. Review the first five rows to confirm the new DataFrame."
   ]
  },
  {
   "cell_type": "code",
   "execution_count": 4,
   "metadata": {},
   "outputs": [
    {
     "data": {
      "text/plain": [
       "Date\n",
       "2000-01-01    5.33\n",
       "2000-02-01    5.56\n",
       "2000-03-01    5.72\n",
       "2000-04-01    5.66\n",
       "2000-05-01    5.92\n",
       "Name: USA, dtype: float64"
      ]
     },
     "execution_count": 4,
     "metadata": {},
     "output_type": "execute_result"
    }
   ],
   "source": [
    "# Using the loc function, select all rows for the \"USA\" column from the DataFrame\n",
    "usa_yields = # YOUR CODE HERE\n",
    "\n",
    "# Review the first 5 rows of the 'usa_yields' DataFrame\n",
    "# YOUR CODE HERE\n"
   ]
  },
  {
   "cell_type": "markdown",
   "metadata": {},
   "source": [
    "## Step 5: Plot the distribution of the USA yields column in a histogram."
   ]
  },
  {
   "cell_type": "code",
   "execution_count": 6,
   "metadata": {},
   "outputs": [
    {
     "data": {
      "text/plain": [
       "<AxesSubplot:ylabel='Frequency'>"
      ]
     },
     "execution_count": 6,
     "metadata": {},
     "output_type": "execute_result"
    },
    {
     "data": {
      "image/png": "[encoded data removed]",
      "text/plain": [
       "<Figure size 432x288 with 1 Axes>"
      ]
     },
     "metadata": {
      "needs_background": "light"
     },
     "output_type": "display_data"
    }
   ],
   "source": [
    "# Plot a histogram of the 'usa_yields' DataFrame\n",
    "# YOUR CODE HERE\n"
   ]
  },
  {
   "cell_type": "markdown",
   "metadata": {},
   "source": [
    "Notice that when you visualized the `usa_yields` DataFrame, that interest rates on government bonds used to be much higher at rates between 5% and 6% per year. Today's interest rates of less than 1% are now normal across the globe. Though it isdebated as to why, we're definitely in a low-yield environment."
   ]
  },
  {
   "cell_type": "code",
   "execution_count": null,
   "metadata": {},
   "outputs": [],
   "source": []
  }
 ],
 "metadata": {
  "kernelspec": {
   "display_name": "Python 3",
   "language": "python",
   "name": "python3"
  },
  "language_info": {
   "codemirror_mode": {
    "name": "ipython",
    "version": 3
   },
   "file_extension": ".py",
   "mimetype": "text/x-python",
   "name": "python",
   "nbconvert_exporter": "python",
   "pygments_lexer": "ipython3",
   "version": "3.7.7"
  }
 },
 "nbformat": 4,
 "nbformat_minor": 4
}
