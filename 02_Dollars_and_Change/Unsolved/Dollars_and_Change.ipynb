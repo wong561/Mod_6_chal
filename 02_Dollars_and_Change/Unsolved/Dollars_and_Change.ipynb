{
 "cells": [
  {
   "cell_type": "markdown",
   "metadata": {},
   "source": [
    "# Dollars and Change\n",
    "\n",
    "In this activity, you'll prepare and clean data by removing symbols in the dataset, converting data types, filling in missing values, and dropping any duplicate data.\n",
    "\n",
    "Instructions:\n",
    "\n",
    "1. Import the Pandas and `pathlib` libraries.\n",
    "\n",
    "2. Use `Path` with the `read_csv` function to read the CSV file into the DataFrame. Use the `index_col`, `parse_dates`, and `infer_datetime_format` parameters to set the Date column as the index.\n",
    "\n",
    "3. Confirm the import by using the `head` function to review the first five rows of the DataFrame .\n",
    "\n",
    "4. Use the `dtypes` function to check the data types of the DataFrame, and identify the ones that are strings.\n",
    "\n",
    "5. Use the `str.replace` function to replace all the dollar signs in the Total Payments column. Then review the first five rows of the DataFrame to confirm the update.\n",
    "\n",
    "6. Use the `astype` function to change the data type of the Total Payments column from `object (string)` to `float`. Then call the `dtypes` function on the DataFrame to confirm the update.\n",
    "\n",
    "7. For the Profit Margin column, remove all the percent signs and convert the data types to `float` by repeating the preceding steps. Call the `dtypes` function on the DataFrame to confirm the update.\n",
    "\n",
    "8. Use the `isnull` function along with the `sum` function to determine the number of missing values in the DataFrame.\n",
    "\n",
    "9. Use the `fillna` function to fill any missing values in just the Profit Margin column with the value of 0. Then rerun the `isnull().sum()` function to confirm that you handled missing values.\n",
    "\n",
    "10. Use the Pandas `duplicated` function along with the `sum` function to determine the number of duplicated entries in the DataFrame.\n",
    "\n",
    "11. Use the Pandas `drop_duplicates` function to remove all duplicated entries. Review the first 10 rows of the DataFrame to confirm the update.\n",
    "\n",
    "\n",
    "References:\n",
    "\n",
    "[Pandas read_csv function](https://pandas.pydata.org/pandas-docs/stable/reference/api/pandas.read_csv.html)\n",
    "\n",
    "[Pandas dtypes function](https://pandas.pydata.org/pandas-docs/stable/reference/api/pandas.DataFrame.dtypes.html)\n",
    "\n",
    "[Pandas str.replace function](https://pandas.pydata.org/pandas-docs/stable/reference/api/pandas.Series.str.replace.html)\n",
    "\n",
    "[Pandas astype funtion](https://pandas.pydata.org/pandas-docs/stable/reference/api/pandas.DataFrame.astype.html)\n",
    "\n",
    "[Pandas isnull function](https://pandas.pydata.org/pandas-docs/stable/reference/api/pandas.isnull.html)\n",
    "\n",
    "[Pandas duplicated function](https://pandas.pydata.org/pandas-docs/stable/reference/api/pandas.DataFrame.duplicated.html)"
   ]
  },
  {
   "cell_type": "markdown",
   "metadata": {},
   "source": [
    "## Step 1: Import the Pandas and `pathlib` libraries."
   ]
  },
  {
   "cell_type": "code",
   "execution_count": 1,
   "metadata": {},
   "outputs": [],
   "source": [
    "# Import the Pandas library\n",
    "# YOUR CODE HERE\n",
    "\n",
    "\n",
    "# Import the Path module from the pathlib library\n",
    "# YOUR CODE HERE\n"
   ]
  },
  {
   "cell_type": "markdown",
   "metadata": {},
   "source": [
    "## Step 2: Use `Path` with the `read_csv` function to read the CSV file into the DataFrame. Use the `index_col`, `parse_dates`, and `infer_datetime_format` parameters to set the Date column as the index."
   ]
  },
  {
   "cell_type": "code",
   "execution_count": 2,
   "metadata": {},
   "outputs": [],
   "source": [
    "# Read in the CSV file called \"big_time_money_flows.csv\" using the Path module \n",
    "# The CSV file is located in the Resources folder\n",
    "# Set the index to the column \"Date\"\n",
    "# Set the parse_dates and infer_datetime_format parameters\n",
    "money_flows_df = # YOUR CODE HERE\n"
   ]
  },
  {
   "cell_type": "markdown",
   "metadata": {},
   "source": [
    "## Step 3: Confirm the import by using the `head` function to review the first five rows of the DataFrame ."
   ]
  },
  {
   "cell_type": "code",
   "execution_count": 3,
   "metadata": {},
   "outputs": [
    {
     "data": {
      "text/html": [
       "<div>\n",
       "<style scoped>\n",
       "    .dataframe tbody tr th:only-of-type {\n",
       "        vertical-align: middle;\n",
       "    }\n",
       "\n",
       "    .dataframe tbody tr th {\n",
       "        vertical-align: top;\n",
       "    }\n",
       "\n",
       "    .dataframe thead th {\n",
       "        text-align: right;\n",
       "    }\n",
       "</style>\n",
       "<table border=\"1\" class=\"dataframe\">\n",
       "  <thead>\n",
       "    <tr style=\"text-align: right;\">\n",
       "      <th></th>\n",
       "      <th>Total Payments</th>\n",
       "      <th>Profit Margin</th>\n",
       "    </tr>\n",
       "    <tr>\n",
       "      <th>Date</th>\n",
       "      <th></th>\n",
       "      <th></th>\n",
       "    </tr>\n",
       "  </thead>\n",
       "  <tbody>\n",
       "    <tr>\n",
       "      <th>2021-01-01</th>\n",
       "      <td>$100008.16</td>\n",
       "      <td>NaN</td>\n",
       "    </tr>\n",
       "    <tr>\n",
       "      <th>2021-01-02</th>\n",
       "      <td>$100017.49</td>\n",
       "      <td>4.8%</td>\n",
       "    </tr>\n",
       "    <tr>\n",
       "      <th>2021-01-03</th>\n",
       "      <td>$100018.77</td>\n",
       "      <td>10.2%</td>\n",
       "    </tr>\n",
       "    <tr>\n",
       "      <th>2021-01-05</th>\n",
       "      <td>$100035.19</td>\n",
       "      <td>9.9%</td>\n",
       "    </tr>\n",
       "    <tr>\n",
       "      <th>2021-01-05</th>\n",
       "      <td>$100035.19</td>\n",
       "      <td>9.9%</td>\n",
       "    </tr>\n",
       "  </tbody>\n",
       "</table>\n",
       "</div>"
      ],
      "text/plain": [
       "           Total Payments Profit Margin\n",
       "Date                                   \n",
       "2021-01-01     $100008.16           NaN\n",
       "2021-01-02     $100017.49          4.8%\n",
       "2021-01-03     $100018.77         10.2%\n",
       "2021-01-05     $100035.19          9.9%\n",
       "2021-01-05     $100035.19          9.9%"
      ]
     },
     "execution_count": 3,
     "metadata": {},
     "output_type": "execute_result"
    }
   ],
   "source": [
    "# Call the head function to review the first 5 rows of the DataFrame\n",
    "# YOUR CODE HERE\n"
   ]
  },
  {
   "cell_type": "markdown",
   "metadata": {},
   "source": [
    "## Step 4: Use the `dtypes` function to check the data types of the DataFrame, and identify the ones that are strings."
   ]
  },
  {
   "cell_type": "code",
   "execution_count": 4,
   "metadata": {},
   "outputs": [
    {
     "data": {
      "text/plain": [
       "Total Payments    object\n",
       "Profit Margin     object\n",
       "dtype: object"
      ]
     },
     "execution_count": 4,
     "metadata": {},
     "output_type": "execute_result"
    }
   ],
   "source": [
    "# Use the dtypes function to check the data type of each column in the DataFrame\n",
    "# YOUR CODE HERE\n"
   ]
  },
  {
   "cell_type": "markdown",
   "metadata": {},
   "source": [
    "## Step 5: Use the `str.replace` function to replace all the dollar signs in the Total Payments column. Then review the first five rows of the DataFrame to confirm the update."
   ]
  },
  {
   "cell_type": "code",
   "execution_count": 5,
   "metadata": {},
   "outputs": [
    {
     "data": {
      "text/html": [
       "<div>\n",
       "<style scoped>\n",
       "    .dataframe tbody tr th:only-of-type {\n",
       "        vertical-align: middle;\n",
       "    }\n",
       "\n",
       "    .dataframe tbody tr th {\n",
       "        vertical-align: top;\n",
       "    }\n",
       "\n",
       "    .dataframe thead th {\n",
       "        text-align: right;\n",
       "    }\n",
       "</style>\n",
       "<table border=\"1\" class=\"dataframe\">\n",
       "  <thead>\n",
       "    <tr style=\"text-align: right;\">\n",
       "      <th></th>\n",
       "      <th>Total Payments</th>\n",
       "      <th>Profit Margin</th>\n",
       "    </tr>\n",
       "    <tr>\n",
       "      <th>Date</th>\n",
       "      <th></th>\n",
       "      <th></th>\n",
       "    </tr>\n",
       "  </thead>\n",
       "  <tbody>\n",
       "    <tr>\n",
       "      <th>2021-01-01</th>\n",
       "      <td>100008.16</td>\n",
       "      <td>NaN</td>\n",
       "    </tr>\n",
       "    <tr>\n",
       "      <th>2021-01-02</th>\n",
       "      <td>100017.49</td>\n",
       "      <td>4.8%</td>\n",
       "    </tr>\n",
       "    <tr>\n",
       "      <th>2021-01-03</th>\n",
       "      <td>100018.77</td>\n",
       "      <td>10.2%</td>\n",
       "    </tr>\n",
       "    <tr>\n",
       "      <th>2021-01-05</th>\n",
       "      <td>100035.19</td>\n",
       "      <td>9.9%</td>\n",
       "    </tr>\n",
       "    <tr>\n",
       "      <th>2021-01-05</th>\n",
       "      <td>100035.19</td>\n",
       "      <td>9.9%</td>\n",
       "    </tr>\n",
       "  </tbody>\n",
       "</table>\n",
       "</div>"
      ],
      "text/plain": [
       "           Total Payments Profit Margin\n",
       "Date                                   \n",
       "2021-01-01      100008.16           NaN\n",
       "2021-01-02      100017.49          4.8%\n",
       "2021-01-03      100018.77         10.2%\n",
       "2021-01-05      100035.19          9.9%\n",
       "2021-01-05      100035.19          9.9%"
      ]
     },
     "execution_count": 5,
     "metadata": {},
     "output_type": "execute_result"
    }
   ],
   "source": [
    "# For all the rows in the \"Total Payments\", use the str.replace function \n",
    "# to replace the \"$\" with empty strings (\"\")\n",
    "money_flows_df.loc[:, \"Total Payments\"] = # YOUR CODE HERE\n",
    "\n",
    "# Call the head function to review the first 5 rows of the DataFrame\n",
    "# YOUR CODE HERE\n"
   ]
  },
  {
   "cell_type": "markdown",
   "metadata": {},
   "source": [
    "## Step 6: Use the `astype` function to change the data type of the Total Payments column from `object (string)` to `float`. Then call the `dtypes` function on the DataFrame to confirm the update."
   ]
  },
  {
   "cell_type": "code",
   "execution_count": 6,
   "metadata": {},
   "outputs": [
    {
     "data": {
      "text/plain": [
       "Total Payments    float64\n",
       "Profit Margin      object\n",
       "dtype: object"
      ]
     },
     "execution_count": 6,
     "metadata": {},
     "output_type": "execute_result"
    }
   ],
   "source": [
    "# For all the rows in \"Total Payments\", use the astype function \n",
    "# to change the data type from Object (string) to float\n",
    "money_flows_df.loc[:, \"Total Payments\"] = # YOUR CODE HERE\n",
    "\n",
    "# Call the dtypes function on the `money_flows_df` DataFrame to confirm the update\n",
    "# YOUR CODE HERE\n"
   ]
  },
  {
   "cell_type": "markdown",
   "metadata": {},
   "source": [
    "## Step 7: For the Profit Margin column, remove all the dollar signs and convert the data types to `float` by repeating the preceding steps. Call the `dtypes` function on the DataFrame to confirm the update."
   ]
  },
  {
   "cell_type": "code",
   "execution_count": 7,
   "metadata": {},
   "outputs": [
    {
     "data": {
      "text/plain": [
       "Total Payments    float64\n",
       "Profit Margin     float64\n",
       "dtype: object"
      ]
     },
     "execution_count": 7,
     "metadata": {},
     "output_type": "execute_result"
    }
   ],
   "source": [
    "# For all rows in the \"Profit Margin\", use the str.replace function \n",
    "# to replace the \"%\" with empty strings (\"\")\n",
    "money_flows_df.loc[:, \"Profit Margin\"] = # YOUR CODE HERE\n",
    "\n",
    "# For all rows in \"Profit Margin\", use the Pandas astype function \n",
    "# to change the data type from Object (string) to float\n",
    "money_flows_df.loc[:, \"Profit Margin\"] = # YOUR CODE HERE\n",
    "\n",
    "# Call the dtypes function on the `money_flows_df` DataFrame to confirm the update\n",
    "# YOUR CODE HERE\n"
   ]
  },
  {
   "cell_type": "markdown",
   "metadata": {},
   "source": [
    "## Step 8:  Use the `isnull` function along with the `sum` function to determine the number of missing values in the DataFrame."
   ]
  },
  {
   "cell_type": "code",
   "execution_count": 8,
   "metadata": {},
   "outputs": [
    {
     "data": {
      "text/plain": [
       "Total Payments     0\n",
       "Profit Margin     11\n",
       "dtype: int64"
      ]
     },
     "execution_count": 8,
     "metadata": {},
     "output_type": "execute_result"
    }
   ],
   "source": [
    "# Use the isnull function in conjunction with the sum function to determine \n",
    "# the total number of missing values in the DataFrame\n",
    "# YOUR CODE HERE\n"
   ]
  },
  {
   "cell_type": "markdown",
   "metadata": {},
   "source": [
    "## Step 9: Use the `fillna` function to fill any missing values in just the Profit Margin column with the value of 0. Then rerun the `isnull().sum()` function to confirm that you handled missing values."
   ]
  },
  {
   "cell_type": "code",
   "execution_count": 9,
   "metadata": {},
   "outputs": [
    {
     "data": {
      "text/plain": [
       "Total Payments    0\n",
       "Profit Margin     0\n",
       "dtype: int64"
      ]
     },
     "execution_count": 9,
     "metadata": {},
     "output_type": "execute_result"
    }
   ],
   "source": [
    "# Using the fillna function, replace all of the missing values \n",
    "# in the \"Profit Margin\" column with a 0\n",
    "money_flows_df.loc[:, \"Profit Margin\"] = # YOUR CODE HERE\n",
    "\n",
    "# Rerun the isnull function in conjunction with the sum function to confirm there are no missing values\n",
    "# YOUR CODE HERE\n"
   ]
  },
  {
   "cell_type": "markdown",
   "metadata": {},
   "source": [
    "## Step 10:  Use the Pandas `duplicated` function along with the `sum` function to determine the number of duplicated entries in the DataFrame."
   ]
  },
  {
   "cell_type": "code",
   "execution_count": 10,
   "metadata": {},
   "outputs": [
    {
     "data": {
      "text/plain": [
       "8"
      ]
     },
     "execution_count": 10,
     "metadata": {},
     "output_type": "execute_result"
    }
   ],
   "source": [
    "# Use the duplicated function in conjunction with the sum function, \n",
    "# to confirm the number of dupliate values in the DataFrame\n",
    "# YOUR CODE HERE\n"
   ]
  },
  {
   "cell_type": "markdown",
   "metadata": {},
   "source": [
    "## Step 11: Use the Pandas `drop_duplicates` function to remove all duplicated entries. Review the first 10 rows of the DataFrame to confirm the update."
   ]
  },
  {
   "cell_type": "code",
   "execution_count": 11,
   "metadata": {},
   "outputs": [
    {
     "data": {
      "text/html": [
       "<div>\n",
       "<style scoped>\n",
       "    .dataframe tbody tr th:only-of-type {\n",
       "        vertical-align: middle;\n",
       "    }\n",
       "\n",
       "    .dataframe tbody tr th {\n",
       "        vertical-align: top;\n",
       "    }\n",
       "\n",
       "    .dataframe thead th {\n",
       "        text-align: right;\n",
       "    }\n",
       "</style>\n",
       "<table border=\"1\" class=\"dataframe\">\n",
       "  <thead>\n",
       "    <tr style=\"text-align: right;\">\n",
       "      <th></th>\n",
       "      <th>Total Payments</th>\n",
       "      <th>Profit Margin</th>\n",
       "    </tr>\n",
       "    <tr>\n",
       "      <th>Date</th>\n",
       "      <th></th>\n",
       "      <th></th>\n",
       "    </tr>\n",
       "  </thead>\n",
       "  <tbody>\n",
       "    <tr>\n",
       "      <th>2021-01-01</th>\n",
       "      <td>100008.16</td>\n",
       "      <td>0.0</td>\n",
       "    </tr>\n",
       "    <tr>\n",
       "      <th>2021-01-02</th>\n",
       "      <td>100017.49</td>\n",
       "      <td>4.8</td>\n",
       "    </tr>\n",
       "    <tr>\n",
       "      <th>2021-01-03</th>\n",
       "      <td>100018.77</td>\n",
       "      <td>10.2</td>\n",
       "    </tr>\n",
       "    <tr>\n",
       "      <th>2021-01-05</th>\n",
       "      <td>100035.19</td>\n",
       "      <td>9.9</td>\n",
       "    </tr>\n",
       "    <tr>\n",
       "      <th>2021-01-06</th>\n",
       "      <td>100048.46</td>\n",
       "      <td>9.8</td>\n",
       "    </tr>\n",
       "    <tr>\n",
       "      <th>2021-01-07</th>\n",
       "      <td>100048.35</td>\n",
       "      <td>6.3</td>\n",
       "    </tr>\n",
       "    <tr>\n",
       "      <th>2021-01-08</th>\n",
       "      <td>100033.09</td>\n",
       "      <td>8.5</td>\n",
       "    </tr>\n",
       "    <tr>\n",
       "      <th>2021-01-09</th>\n",
       "      <td>100008.56</td>\n",
       "      <td>5.1</td>\n",
       "    </tr>\n",
       "    <tr>\n",
       "      <th>2021-01-10</th>\n",
       "      <td>99988.86</td>\n",
       "      <td>4.4</td>\n",
       "    </tr>\n",
       "    <tr>\n",
       "      <th>2021-01-11</th>\n",
       "      <td>99983.78</td>\n",
       "      <td>9.2</td>\n",
       "    </tr>\n",
       "  </tbody>\n",
       "</table>\n",
       "</div>"
      ],
      "text/plain": [
       "            Total Payments  Profit Margin\n",
       "Date                                     \n",
       "2021-01-01       100008.16            0.0\n",
       "2021-01-02       100017.49            4.8\n",
       "2021-01-03       100018.77           10.2\n",
       "2021-01-05       100035.19            9.9\n",
       "2021-01-06       100048.46            9.8\n",
       "2021-01-07       100048.35            6.3\n",
       "2021-01-08       100033.09            8.5\n",
       "2021-01-09       100008.56            5.1\n",
       "2021-01-10        99988.86            4.4\n",
       "2021-01-11        99983.78            9.2"
      ]
     },
     "execution_count": 11,
     "metadata": {},
     "output_type": "execute_result"
    }
   ],
   "source": [
    "# Using the drop_duplicates function, remove all the duplicate rows of data \n",
    "# from the DataFrame\n",
    "money_flows_df = # YOUR CODE HERE\n",
    "\n",
    "# Call the head function to review the first 10 rows of the DataFrame\n",
    "# YOUR CODE HERE\n"
   ]
  }
 ],
 "metadata": {
  "kernelspec": {
   "display_name": "Python 3",
   "language": "python",
   "name": "python3"
  },
  "language_info": {
   "codemirror_mode": {
    "name": "ipython",
    "version": 3
   },
   "file_extension": ".py",
   "mimetype": "text/x-python",
   "name": "python",
   "nbconvert_exporter": "python",
   "pygments_lexer": "ipython3",
   "version": "3.7.7"
  }
 },
 "nbformat": 4,
 "nbformat_minor": 4
}