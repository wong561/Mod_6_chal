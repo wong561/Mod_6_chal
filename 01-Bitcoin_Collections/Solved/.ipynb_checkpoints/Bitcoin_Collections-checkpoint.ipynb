{
 "cells": [
  {
   "cell_type": "markdown",
   "metadata": {},
   "source": [
    "# Bitcoin Collections\n",
    "\n",
    "In this activity, you’ll import the data for the second Bitcoin dataset into a Pandas DataFrame.\n",
    "\n",
    "Instructions\n",
    "\n",
    "1. Use the `Path` module with the `read_csv` function to read the `bitcoin_2` csv file into the DataFrame. Be sure to set the `DatetimeIndex`.\n",
    "\n",
    "2. Using the Pandas `head` function, review the first five rows of the DataFrame to confirm the import.\n",
    "\n",
    "3. Using the Pandas `tail` function, review the last five rows of the DataFrame.\n"
   ]
  },
  {
   "cell_type": "markdown",
   "metadata": {},
   "source": [
    "### Import the required libraries and dependencies"
   ]
  },
  {
   "cell_type": "code",
   "execution_count": 1,
   "metadata": {},
   "outputs": [],
   "source": [
    "# Import the required libraries and dependencies including \n",
    "# Pandas and pathlib . \n",
    "import pandas as pd\n",
    "from pathlib import Path"
   ]
  },
  {
   "cell_type": "markdown",
   "metadata": {},
   "source": [
    "### Import the bitcoin_1 CSV file and create a bitcoin_1 DataFrame"
   ]
  },
  {
   "cell_type": "code",
   "execution_count": 2,
   "metadata": {},
   "outputs": [
    {
     "data": {
      "text/html": [
       "<div>\n",
       "<style scoped>\n",
       "    .dataframe tbody tr th:only-of-type {\n",
       "        vertical-align: middle;\n",
       "    }\n",
       "\n",
       "    .dataframe tbody tr th {\n",
       "        vertical-align: top;\n",
       "    }\n",
       "\n",
       "    .dataframe thead th {\n",
       "        text-align: right;\n",
       "    }\n",
       "</style>\n",
       "<table border=\"1\" class=\"dataframe\">\n",
       "  <thead>\n",
       "    <tr style=\"text-align: right;\">\n",
       "      <th></th>\n",
       "      <th>Close</th>\n",
       "    </tr>\n",
       "    <tr>\n",
       "      <th>Timestamp</th>\n",
       "      <th></th>\n",
       "    </tr>\n",
       "  </thead>\n",
       "  <tbody>\n",
       "    <tr>\n",
       "      <th>2015-01-01 00:00:00</th>\n",
       "      <td>314.0</td>\n",
       "    </tr>\n",
       "    <tr>\n",
       "      <th>2015-01-01 00:01:00</th>\n",
       "      <td>314.0</td>\n",
       "    </tr>\n",
       "    <tr>\n",
       "      <th>2015-01-01 00:02:00</th>\n",
       "      <td>314.0</td>\n",
       "    </tr>\n",
       "    <tr>\n",
       "      <th>2015-01-01 00:03:00</th>\n",
       "      <td>314.0</td>\n",
       "    </tr>\n",
       "    <tr>\n",
       "      <th>2015-01-01 00:04:00</th>\n",
       "      <td>313.9</td>\n",
       "    </tr>\n",
       "  </tbody>\n",
       "</table>\n",
       "</div>"
      ],
      "text/plain": [
       "                     Close\n",
       "Timestamp                 \n",
       "2015-01-01 00:00:00  314.0\n",
       "2015-01-01 00:01:00  314.0\n",
       "2015-01-01 00:02:00  314.0\n",
       "2015-01-01 00:03:00  314.0\n",
       "2015-01-01 00:04:00  313.9"
      ]
     },
     "execution_count": 2,
     "metadata": {},
     "output_type": "execute_result"
    }
   ],
   "source": [
    "# Read in the CSV file called \"bitcoin_1.csv\" using the Path module. \n",
    "# The CSV file is located in the Resources folder.\n",
    "# Set the index to the column \"Timestamp\"\n",
    "# Set the parse_dates and infer_datetime_format parameters\n",
    "bitcoin_1 = pd.read_csv(\n",
    "    Path('../Resources/bitcoin_1.csv'), \n",
    "    index_col=\"Timestamp\", \n",
    "    parse_dates=True, \n",
    "    infer_datetime_format=True\n",
    ")\n",
    "\n",
    "# Review the first 5 rows of the 'bitcoin_1' DataFrame\n",
    "bitcoin_1.head()"
   ]
  },
  {
   "cell_type": "markdown",
   "metadata": {},
   "source": [
    "## Step 1: Use the `Path` module with the `read_csv` function to read the `bitcoin_2` csv file into the DataFrame. Be sure to set the `DatetimeIndex`."
   ]
  },
  {
   "cell_type": "code",
   "execution_count": 3,
   "metadata": {},
   "outputs": [],
   "source": [
    "# Read in the CSV file called \"bitcoin_2.csv\" using the Path module. \n",
    "# The CSV file is located in the Resources folder.\n",
    "# Set the index to the column \"Timestamp\"\n",
    "# Set the parse_dates and infer_datetime_format parameters\n",
    "bitcoin_2 = pd.read_csv(\n",
    "    Path('../Resources/bitcoin_2.csv'), \n",
    "    index_col=\"Timestamp\", \n",
    "    parse_dates=True, \n",
    "    infer_datetime_format=True\n",
    ")"
   ]
  },
  {
   "cell_type": "markdown",
   "metadata": {},
   "source": [
    "## Step 2: Using the Pandas `head` function, review the first five rows of the DataFrame to confirm the import."
   ]
  },
  {
   "cell_type": "code",
   "execution_count": 4,
   "metadata": {},
   "outputs": [
    {
     "data": {
      "text/html": [
       "<div>\n",
       "<style scoped>\n",
       "    .dataframe tbody tr th:only-of-type {\n",
       "        vertical-align: middle;\n",
       "    }\n",
       "\n",
       "    .dataframe tbody tr th {\n",
       "        vertical-align: top;\n",
       "    }\n",
       "\n",
       "    .dataframe thead th {\n",
       "        text-align: right;\n",
       "    }\n",
       "</style>\n",
       "<table border=\"1\" class=\"dataframe\">\n",
       "  <thead>\n",
       "    <tr style=\"text-align: right;\">\n",
       "      <th></th>\n",
       "      <th>Close</th>\n",
       "    </tr>\n",
       "    <tr>\n",
       "      <th>Timestamp</th>\n",
       "      <th></th>\n",
       "    </tr>\n",
       "  </thead>\n",
       "  <tbody>\n",
       "    <tr>\n",
       "      <th>2015-01-07 20:24:00</th>\n",
       "      <td>360.00</td>\n",
       "    </tr>\n",
       "    <tr>\n",
       "      <th>2015-01-07 20:27:00</th>\n",
       "      <td>276.34</td>\n",
       "    </tr>\n",
       "    <tr>\n",
       "      <th>2015-01-07 20:28:00</th>\n",
       "      <td>271.60</td>\n",
       "    </tr>\n",
       "    <tr>\n",
       "      <th>2015-01-07 20:29:00</th>\n",
       "      <td>344.67</td>\n",
       "    </tr>\n",
       "    <tr>\n",
       "      <th>2015-01-07 20:30:00</th>\n",
       "      <td>305.38</td>\n",
       "    </tr>\n",
       "  </tbody>\n",
       "</table>\n",
       "</div>"
      ],
      "text/plain": [
       "                      Close\n",
       "Timestamp                  \n",
       "2015-01-07 20:24:00  360.00\n",
       "2015-01-07 20:27:00  276.34\n",
       "2015-01-07 20:28:00  271.60\n",
       "2015-01-07 20:29:00  344.67\n",
       "2015-01-07 20:30:00  305.38"
      ]
     },
     "execution_count": 4,
     "metadata": {},
     "output_type": "execute_result"
    }
   ],
   "source": [
    "# Using the head function, review the first 5 rows of the DataFrame\n",
    "bitcoin_2.head()"
   ]
  },
  {
   "cell_type": "markdown",
   "metadata": {},
   "source": [
    "## Step 3: Using the Pandas `tail` function, review the last five rows of the DataFrame."
   ]
  },
  {
   "cell_type": "code",
   "execution_count": 5,
   "metadata": {},
   "outputs": [
    {
     "data": {
      "text/html": [
       "<div>\n",
       "<style scoped>\n",
       "    .dataframe tbody tr th:only-of-type {\n",
       "        vertical-align: middle;\n",
       "    }\n",
       "\n",
       "    .dataframe tbody tr th {\n",
       "        vertical-align: top;\n",
       "    }\n",
       "\n",
       "    .dataframe thead th {\n",
       "        text-align: right;\n",
       "    }\n",
       "</style>\n",
       "<table border=\"1\" class=\"dataframe\">\n",
       "  <thead>\n",
       "    <tr style=\"text-align: right;\">\n",
       "      <th></th>\n",
       "      <th>Close</th>\n",
       "    </tr>\n",
       "    <tr>\n",
       "      <th>Timestamp</th>\n",
       "      <th></th>\n",
       "    </tr>\n",
       "  </thead>\n",
       "  <tbody>\n",
       "    <tr>\n",
       "      <th>2015-12-31 23:55:00</th>\n",
       "      <td>437.02</td>\n",
       "    </tr>\n",
       "    <tr>\n",
       "      <th>2015-12-31 23:56:00</th>\n",
       "      <td>437.07</td>\n",
       "    </tr>\n",
       "    <tr>\n",
       "      <th>2015-12-31 23:57:00</th>\n",
       "      <td>436.03</td>\n",
       "    </tr>\n",
       "    <tr>\n",
       "      <th>2015-12-31 23:58:00</th>\n",
       "      <td>436.13</td>\n",
       "    </tr>\n",
       "    <tr>\n",
       "      <th>2015-12-31 23:59:00</th>\n",
       "      <td>436.12</td>\n",
       "    </tr>\n",
       "  </tbody>\n",
       "</table>\n",
       "</div>"
      ],
      "text/plain": [
       "                      Close\n",
       "Timestamp                  \n",
       "2015-12-31 23:55:00  437.02\n",
       "2015-12-31 23:56:00  437.07\n",
       "2015-12-31 23:57:00  436.03\n",
       "2015-12-31 23:58:00  436.13\n",
       "2015-12-31 23:59:00  436.12"
      ]
     },
     "execution_count": 5,
     "metadata": {},
     "output_type": "execute_result"
    }
   ],
   "source": [
    "# Using the tail function, review the last 5 rows of the DataFrame\n",
    "bitcoin_2.tail()"
   ]
  }
 ],
 "metadata": {
  "kernelspec": {
   "display_name": "Python (dev)",
   "language": "python",
   "name": "dev"
  },
  "language_info": {
   "codemirror_mode": {
    "name": "ipython",
    "version": 3
   },
   "file_extension": ".py",
   "mimetype": "text/x-python",
   "name": "python",
   "nbconvert_exporter": "python",
   "pygments_lexer": "ipython3",
   "version": "3.7.7"
  }
 },
 "nbformat": 4,
 "nbformat_minor": 4
}
